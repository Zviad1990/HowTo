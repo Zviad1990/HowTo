{
 "cells": [
  {
   "cell_type": "markdown",
   "metadata": {},
   "source": [
    "## Hi, Folks!\n",
    "### Today i show how to connect to your MySQL database from Jupyter Notebook , execute your sql script  and create pandas Dataframe."
   ]
  },
  {
   "cell_type": "code",
   "execution_count": 21,
   "metadata": {},
   "outputs": [],
   "source": [
    "# Some imports for work...\n",
    "import pandas as pd  # - with datafame\n",
    "from sqlalchemy import create_engine # - create connection to database\n",
    "import pymysql # package for working with  MySQL"
   ]
  },
  {
   "cell_type": "code",
   "execution_count": 10,
   "metadata": {},
   "outputs": [],
   "source": [
    "# after that we create some variable for connection\n",
    "user = \"user\" # - your login\n",
    "password = \"password123\" # - your password (if you don't know, ask your IT Guy ;)\n",
    "host = \"localhost\" # - it's ip address , where database is located \n",
    "db_name = 'database' # database name\n",
    "port = 3306 # port of ip adress (by default is 3306 for MySQL)\n",
    "\n",
    "#we make connection to our MySQL Database\n",
    "sqlEngine       = create_engine(f'mysql+pymysql://{user}:{password}@{host}/{db_name}', pool_recycle=port)\n",
    "dbConnection    = sqlEngine.connect() \n",
    "\n",
    "# lets check"
   ]
  },
  {
   "cell_type": "code",
   "execution_count": 22,
   "metadata": {},
   "outputs": [],
   "source": [
    "#it's our sql query where fetching all columns from table\n",
    "sql = \"\"\"select *\n",
    "        fROM databas.psb_regions\"\"\""
   ]
  },
  {
   "cell_type": "code",
   "execution_count": 23,
   "metadata": {},
   "outputs": [],
   "source": [
    "# lets read data from database and input content to dataframe\n",
    "df = pd.read_sql(sql, # this is our sql query\n",
    "                 dbConnection) # and this is our connection to database"
   ]
  },
  {
   "cell_type": "code",
   "execution_count": 24,
   "metadata": {},
   "outputs": [
    {
     "data": {
      "text/html": [
       "<div>\n",
       "<style scoped>\n",
       "    .dataframe tbody tr th:only-of-type {\n",
       "        vertical-align: middle;\n",
       "    }\n",
       "\n",
       "    .dataframe tbody tr th {\n",
       "        vertical-align: top;\n",
       "    }\n",
       "\n",
       "    .dataframe thead th {\n",
       "        text-align: right;\n",
       "    }\n",
       "</style>\n",
       "<table border=\"1\" class=\"dataframe\">\n",
       "  <thead>\n",
       "    <tr style=\"text-align: right;\">\n",
       "      <th></th>\n",
       "      <th>ids</th>\n",
       "      <th>region</th>\n",
       "      <th>psb_region</th>\n",
       "      <th>id</th>\n",
       "      <th>city_id</th>\n",
       "      <th>city_name</th>\n",
       "      <th>city_timezone</th>\n",
       "    </tr>\n",
       "  </thead>\n",
       "  <tbody>\n",
       "    <tr>\n",
       "      <th>0</th>\n",
       "      <td>1</td>\n",
       "      <td>А.ОКР. НЕНЕЦКИЙ</td>\n",
       "      <td>Ненецкий автономный округ</td>\n",
       "      <td>110</td>\n",
       "      <td>110-103-41</td>\n",
       "      <td>Тарко-Сале</td>\n",
       "      <td>МСК+2</td>\n",
       "    </tr>\n",
       "    <tr>\n",
       "      <th>1</th>\n",
       "      <td>2</td>\n",
       "      <td>АВТОНОМНЫЙ ОКРУГ НЕНЕЦКИЙ</td>\n",
       "      <td>Ненецкий автономный округ</td>\n",
       "      <td>110</td>\n",
       "      <td>110-103-41</td>\n",
       "      <td>Тарко-Сале</td>\n",
       "      <td>МСК+2</td>\n",
       "    </tr>\n",
       "  </tbody>\n",
       "</table>\n",
       "</div>"
      ],
      "text/plain": [
       "   ids                     region                 psb_region   id     city_id  \\\n",
       "0    1            А.ОКР. НЕНЕЦКИЙ  Ненецкий автономный округ  110  110-103-41   \n",
       "1    2  АВТОНОМНЫЙ ОКРУГ НЕНЕЦКИЙ  Ненецкий автономный округ  110  110-103-41   \n",
       "\n",
       "    city_name city_timezone  \n",
       "0  Тарко-Сале         МСК+2  \n",
       "1  Тарко-Сале         МСК+2  "
      ]
     },
     "execution_count": 24,
     "metadata": {},
     "output_type": "execute_result"
    }
   ],
   "source": [
    "# lets see\n",
    "df.head(2)"
   ]
  },
  {
   "cell_type": "code",
   "execution_count": 25,
   "metadata": {},
   "outputs": [
    {
     "data": {
      "text/plain": [
       "(248, 7)"
      ]
     },
     "execution_count": 25,
     "metadata": {},
     "output_type": "execute_result"
    }
   ],
   "source": [
    "df.shape"
   ]
  },
  {
   "cell_type": "code",
   "execution_count": 26,
   "metadata": {},
   "outputs": [],
   "source": [
    "# alrighty then "
   ]
  },
  {
   "cell_type": "code",
   "execution_count": null,
   "metadata": {},
   "outputs": [],
   "source": []
  }
 ],
 "metadata": {
  "kernelspec": {
   "display_name": "Python 3",
   "language": "python",
   "name": "python3"
  },
  "language_info": {
   "codemirror_mode": {
    "name": "ipython",
    "version": 3
   },
   "file_extension": ".py",
   "mimetype": "text/x-python",
   "name": "python",
   "nbconvert_exporter": "python",
   "pygments_lexer": "ipython3",
   "version": "3.8.3"
  }
 },
 "nbformat": 4,
 "nbformat_minor": 4
}
