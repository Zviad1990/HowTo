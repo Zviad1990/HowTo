{
 "cells": [
  {
   "cell_type": "markdown",
   "metadata": {},
   "source": [
    "## Hi, Folks!\n",
    "### Today i show how to connect to your PostgreSQL database from Jupyter Notebook , execute your sql script  and create pandas Dataframe."
   ]
  },
  {
   "cell_type": "code",
   "execution_count": 1,
   "metadata": {},
   "outputs": [],
   "source": [
    "# Some imports for work...\n",
    "import pandas as pd  # - with datafame\n",
    "import pandas.io.sql as sqlio  # - with sql query\n",
    "import psycopg2 as ps # - with postgresql database (to connect!)"
   ]
  },
  {
   "cell_type": "code",
   "execution_count": 2,
   "metadata": {},
   "outputs": [],
   "source": [
    "# after that\n",
    "#we make connection to our PostgreSql Database\n",
    "conn2 = ps.connect(dbname=\"postgres\", # - here you write your database name (by default is postgres)\n",
    "                   user = \"postgres\", # - your login\n",
    "                   password = \"postgres\", # - your password (if you don't know you, ask your IT Guy ;)\n",
    "                   host = \"localhost\", # - it's ip adres , where database is located \n",
    "                   port = \"5432\") # - port of ip adres (by default is 5432 for postgres)\n",
    "# lets connect"
   ]
  },
  {
   "cell_type": "code",
   "execution_count": 7,
   "metadata": {},
   "outputs": [],
   "source": [
    "#its our sql query where fetching all columns fron table public.lk_orders\n",
    "sql = \"\"\"select *\n",
    "        fROM public.lk_orders\"\"\""
   ]
  },
  {
   "cell_type": "code",
   "execution_count": 8,
   "metadata": {},
   "outputs": [],
   "source": [
    "# lets read data from database and input contenc to dataframe\n",
    "df = sqlio.read_sql_query(sql, # its our sql query\n",
    "                          conn2 # this is our connection to database\n",
    "                         )"
   ]
  },
  {
   "cell_type": "code",
   "execution_count": 9,
   "metadata": {
    "scrolled": true
   },
   "outputs": [
    {
     "data": {
      "text/html": [
       "<div>\n",
       "<style scoped>\n",
       "    .dataframe tbody tr th:only-of-type {\n",
       "        vertical-align: middle;\n",
       "    }\n",
       "\n",
       "    .dataframe tbody tr th {\n",
       "        vertical-align: top;\n",
       "    }\n",
       "\n",
       "    .dataframe thead th {\n",
       "        text-align: right;\n",
       "    }\n",
       "</style>\n",
       "<table border=\"1\" class=\"dataframe\">\n",
       "  <thead>\n",
       "    <tr style=\"text-align: right;\">\n",
       "      <th></th>\n",
       "      <th>id</th>\n",
       "      <th>CreatedAt</th>\n",
       "      <th>UpdatedAt</th>\n",
       "      <th>FormJson</th>\n",
       "      <th>ScoringResult</th>\n",
       "      <th>OrderResult</th>\n",
       "      <th>IdBank_id</th>\n",
       "      <th>IdAgent_id</th>\n",
       "      <th>FormV</th>\n",
       "      <th>IdProduct_id</th>\n",
       "      <th>shortJson</th>\n",
       "    </tr>\n",
       "  </thead>\n",
       "  <tbody>\n",
       "    <tr>\n",
       "      <th>0</th>\n",
       "      <td>13</td>\n",
       "      <td>2021-06-21 10:22:11.359082+00:00</td>\n",
       "      <td>2021-06-21 10:22:11.359102+00:00</td>\n",
       "      <td>{'inn': '123123321', 'kpp': 'alfa', 'ogrn': 'a...</td>\n",
       "      <td>{'status': 'Скоринг пройден'}</td>\n",
       "      <td>{'status': 'Отправлен', 'responce': {'id': 13}}</td>\n",
       "      <td>10</td>\n",
       "      <td>1</td>\n",
       "      <td>OOO alfa  ИНН: 123123321 ,Телефон:89991231223</td>\n",
       "      <td>NaN</td>\n",
       "      <td>{'Inn': 'рок', 'Name': 'рок', 'Phone': 'рок'}</td>\n",
       "    </tr>\n",
       "    <tr>\n",
       "      <th>1</th>\n",
       "      <td>26</td>\n",
       "      <td>2021-09-03 16:28:46.047491+00:00</td>\n",
       "      <td>2021-09-03 16:28:46.047511+00:00</td>\n",
       "      <td>{'region': '3', 'comment': 'рок', 'lastName': ...</td>\n",
       "      <td>None</td>\n",
       "      <td>{'status': 'Отправлен', 'responce': {'id': 26}}</td>\n",
       "      <td>9</td>\n",
       "      <td>1</td>\n",
       "      <td>рок  (ИНН: рок, Телефон:рок)</td>\n",
       "      <td>3.0</td>\n",
       "      <td>{'Inn': 'рок', 'Name': 'рок', 'Phone': 'рок'}</td>\n",
       "    </tr>\n",
       "  </tbody>\n",
       "</table>\n",
       "</div>"
      ],
      "text/plain": [
       "   id                        CreatedAt                        UpdatedAt  \\\n",
       "0  13 2021-06-21 10:22:11.359082+00:00 2021-06-21 10:22:11.359102+00:00   \n",
       "1  26 2021-09-03 16:28:46.047491+00:00 2021-09-03 16:28:46.047511+00:00   \n",
       "\n",
       "                                            FormJson  \\\n",
       "0  {'inn': '123123321', 'kpp': 'alfa', 'ogrn': 'a...   \n",
       "1  {'region': '3', 'comment': 'рок', 'lastName': ...   \n",
       "\n",
       "                   ScoringResult  \\\n",
       "0  {'status': 'Скоринг пройден'}   \n",
       "1                           None   \n",
       "\n",
       "                                       OrderResult  IdBank_id  IdAgent_id  \\\n",
       "0  {'status': 'Отправлен', 'responce': {'id': 13}}         10           1   \n",
       "1  {'status': 'Отправлен', 'responce': {'id': 26}}          9           1   \n",
       "\n",
       "                                           FormV  IdProduct_id  \\\n",
       "0  OOO alfa  ИНН: 123123321 ,Телефон:89991231223           NaN   \n",
       "1                   рок  (ИНН: рок, Телефон:рок)           3.0   \n",
       "\n",
       "                                       shortJson  \n",
       "0  {'Inn': 'рок', 'Name': 'рок', 'Phone': 'рок'}  \n",
       "1  {'Inn': 'рок', 'Name': 'рок', 'Phone': 'рок'}  "
      ]
     },
     "execution_count": 9,
     "metadata": {},
     "output_type": "execute_result"
    }
   ],
   "source": [
    "# lets see\n",
    "df.head(2)"
   ]
  },
  {
   "cell_type": "code",
   "execution_count": 10,
   "metadata": {},
   "outputs": [],
   "source": [
    "# alrighty then "
   ]
  },
  {
   "cell_type": "code",
   "execution_count": null,
   "metadata": {},
   "outputs": [],
   "source": []
  }
 ],
 "metadata": {
  "kernelspec": {
   "display_name": "Python 3",
   "language": "python",
   "name": "python3"
  },
  "language_info": {
   "codemirror_mode": {
    "name": "ipython",
    "version": 3
   },
   "file_extension": ".py",
   "mimetype": "text/x-python",
   "name": "python",
   "nbconvert_exporter": "python",
   "pygments_lexer": "ipython3",
   "version": "3.8.3"
  }
 },
 "nbformat": 4,
 "nbformat_minor": 4
}
